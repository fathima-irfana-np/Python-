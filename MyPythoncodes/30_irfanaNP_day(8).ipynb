{
  "nbformat": 4,
  "nbformat_minor": 0,
  "metadata": {
    "colab": {
      "provenance": []
    },
    "kernelspec": {
      "name": "python3",
      "display_name": "Python 3"
    },
    "language_info": {
      "name": "python"
    }
  },
  "cells": [
    {
      "cell_type": "code",
      "execution_count": null,
      "metadata": {
        "id": "H0TMH1vQHvTn"
      },
      "outputs": [],
      "source": [
        "n=int(input(\"enter a number\"))\n",
        "sum=0\n",
        "while(n>0):\n",
        "    m=n%10\n",
        "    sum+=m\n",
        "    n=n//10\n",
        "print(sum)\n",
        "\n"
      ]
    },
    {
      "cell_type": "markdown",
      "source": [
        "Algorithm\n",
        "-----------------\n",
        "in main()\n",
        "\n",
        "//inputs a number\n",
        "\n",
        "//outputs the sum of digits of number\n",
        "\n",
        "//functioning :\n",
        "\n",
        "get a number n\n",
        "\n",
        "initialize sum=0\n",
        "\n",
        "conduct while loop until n<=0\n",
        "\n",
        "by % operator get last digit\n",
        "\n",
        "add that digit with sum\n",
        "\n",
        "divide n and assign as new\n",
        "\n",
        "print the sum when loop execution is terminated"
      ],
      "metadata": {
        "id": "4LBh9GR2IU12"
      }
    }
  ]
}