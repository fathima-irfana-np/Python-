{
 "cells": [
  {
   "cell_type": "code",
   "execution_count": 5,
   "metadata": {
    "colab": {
     "base_uri": "https://localhost:8080/"
    },
    "executionInfo": {
     "elapsed": 57852,
     "status": "ok",
     "timestamp": 1729191715027,
     "user": {
      "displayName": "irfana fathima",
      "userId": "09817297705480643554"
     },
     "user_tz": -330
    },
    "id": "_0hPAW10sYvH",
    "outputId": "636deb84-3609-463d-c1e4-6ec36e6ae5c7"
   },
   "outputs": [
    {
     "name": "stdout",
     "output_type": "stream",
     "text": [
      "string=icfana is a caven, not a cat\n",
      "enter the number of occurances:2\n",
      "irfana is a raven, not a cat\n"
     ]
    }
   ],
   "source": [
    "stri=input(\"string=\")\n",
    "n=int(input(\"enter the number of occurances:\"))\n",
    "newline=\"\"\n",
    "j=0\n",
    "for i in range(len(stri)):\n",
    "\tif stri[i]==\"c\" and j<n:\n",
    "\t\tnewline+=\"r\"\n",
    "\t\tj=j+1\n",
    "\telse:\n",
    "\t\tnewline+=stri[i]\n",
    "print(newline)\n",
    "\n",
    "\n",
    "m,L=\"\",[]\n",
    "mi=\"aaabbbcccda\"\n",
    "b=set(mi)\n",
    "for x in b:\n",
    "    m+=x+str(mi.count(x))\n",
    "print(m)"
   ]
  },
  {
   "cell_type": "markdown",
   "metadata": {
    "id": "G_yYZXjy27Bi"
   },
   "source": [
    "ALGORITHM :\n",
    "----------\n",
    "//inputs the string and no.of occurances\n",
    "\n",
    "//outputs the new string with replaced (particular) character, upto a no.of occurances\n",
    "\n",
    "intakes string and n as no.of occurances\n",
    "\n",
    "put for loop upto the length of string\n",
    "\n",
    "initialize newline and j=0\n",
    "\n",
    "check if char of string=='c' and put j<no of occurances\n",
    "\n",
    "if condition satisfies, upto the occurance ,replace will occur\n",
    "\n",
    "increments j if condition satisfied.\n",
    "\n",
    "else assigns normal character to string"
   ]
  }
 ],
 "metadata": {
  "colab": {
   "authorship_tag": "ABX9TyOnHRFIv5Gwv3leNVmSZGuk",
   "provenance": []
  },
  "kernelspec": {
   "display_name": "Python 3",
   "name": "python3"
  },
  "language_info": {
   "name": "python"
  }
 },
 "nbformat": 4,
 "nbformat_minor": 0
}
