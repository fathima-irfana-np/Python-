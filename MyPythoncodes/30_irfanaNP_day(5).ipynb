{
  "cells": [
    {
      "cell_type": "code",
      "execution_count": null,
      "metadata": {
        "id": "-SlnSkr0JjBJ"
      },
      "outputs": [],
      "source": [
        "n=int(input(\"enter a number\"))\n",
        "l=['a','b','c','d','e','f','g','h','i','j','k','l','m','n','o','p','q','r','s','t','u','v','w','x','y','z']\n",
        "print(l[n-1].center((n*2)-1,'-'))\n",
        "\n",
        "\n",
        "n=int(input(\"enter a number\"))\n",
        "l=chr(96+n)\n",
        "print((n-1)*'-'+l+(n-1)*'-')"
      ]
    },
    {
      "cell_type": "code",
      "execution_count": null,
      "metadata": {},
      "outputs": [],
      "source": []
    },
    {
      "cell_type": "markdown",
      "metadata": {
        "id": "jsAk5W4pLWYX"
      },
      "source": [
        "\n",
        "Algorithm\n",
        "------------\n",
        "in main():\n",
        "\n",
        "//input n=5\n",
        "\n",
        "//outputs ----e----\n",
        "\n",
        "read n\n",
        "\n",
        "create a list of alphabets\n",
        "\n",
        "find corresponding list element with n-1\n",
        "\n",
        "print the sequence using count function as list[index].count((occurance*2)-1,'-')"
      ]
    }
  ],
  "metadata": {
    "colab": {
      "provenance": []
    },
    "kernelspec": {
      "display_name": "Python 3",
      "name": "python3"
    },
    "language_info": {
      "name": "python"
    }
  },
  "nbformat": 4,
  "nbformat_minor": 0
}
