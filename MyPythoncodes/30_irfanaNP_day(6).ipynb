{
  "nbformat": 4,
  "nbformat_minor": 0,
  "metadata": {
    "colab": {
      "provenance": []
    },
    "kernelspec": {
      "name": "python3",
      "display_name": "Python 3"
    },
    "language_info": {
      "name": "python"
    }
  },
  "cells": [
    {
      "cell_type": "code",
      "execution_count": null,
      "metadata": {
        "id": "KfgPoVou20LX"
      },
      "outputs": [],
      "source": [
        "m=int(input(\"enter a number m\"))\n",
        "n=int(input(\"enter a number n\"))\n",
        "list1=['a','b','c','d','e','f','g','h','i','j','k','l','m','n','o','p','q','r','s','t','u','v','w','x','y','z']\n",
        "if(1<=n<=26) and n<m:\n",
        "    newline=''.join(list1[n-1:m])\n",
        "    print(newline[::-1])\n",
        "else:\n",
        "    print(\"invalid input\")"
      ]
    },
    {
      "cell_type": "markdown",
      "source": [
        "algorithm:\n",
        "-----------\n",
        "\n",
        "in main():\n",
        "//inputs m=7 and n=5\n",
        "//outputs=gfe\n",
        "\n",
        "read n and m integers\n",
        "\n",
        "creates a list of alphabets\n",
        "\n",
        "if m>n and n is between 1 and 27, then\n",
        "\n",
        "newline= list[n-1:m] use join() method\n",
        "\n",
        "now reverse the nwline by[::-1]\n",
        "\n",
        "else print invald input"
      ],
      "metadata": {
        "id": "YF9c-3dx27Xf"
      }
    }
  ]
}