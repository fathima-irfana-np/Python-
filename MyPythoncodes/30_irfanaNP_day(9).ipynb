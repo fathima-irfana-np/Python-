{
  "nbformat": 4,
  "nbformat_minor": 0,
  "metadata": {
    "colab": {
      "provenance": []
    },
    "kernelspec": {
      "name": "python3",
      "display_name": "Python 3"
    },
    "language_info": {
      "name": "python"
    }
  },
  "cells": [
    {
      "cell_type": "code",
      "execution_count": null,
      "metadata": {
        "id": "YMsZ9NryzWD7"
      },
      "outputs": [],
      "source": [
        "// number reverse\n",
        "n=input(\"enter number :\")\n",
        "n=n.rstrip('0')\n",
        "L=[]\n",
        "length=len(n)\n",
        "while (length >0):\n",
        "        L. append(n[length -1])\n",
        "        length-=1\n",
        "print(\"\". join(L))\n",
        "\n",
        "\n",
        "\n",
        "//number reverse\n",
        "n=input(\"enter number :\")\n",
        "n=n.rstrip('0')\n",
        "n=n[::-1]\n",
        "print(n)"
      ]
    },
    {
      "cell_type": "markdown",
      "source": [
        "ALGORITHM:\n",
        "in main():\n",
        "---------\n",
        "//inputs the n , number\n",
        "\n",
        "//outputs the integer format in reverse order, without prefix\n",
        "\n",
        "read n\n",
        "\n",
        "use rstrip to remove 0\n",
        "\n",
        "then reverse it by slice operator\n",
        "\n",
        "print n"
      ],
      "metadata": {
        "id": "Ul7Anttazdyh"
      }
    },
    {
      "cell_type": "markdown",
      "source": [
        "ALGORITHM:\n",
        "\n",
        "in main():\n",
        "\n",
        "//inputs the n , number\n",
        "\n",
        "//outputs the integer format in reverse order, without prefix\n",
        "\n",
        "now remove zero\n",
        "\n",
        "by using while loop, enter elements in reverse to a L\n",
        "\n",
        "now join as a string format"
      ],
      "metadata": {
        "id": "kU3o-X8u0Jx2"
      }
    }
  ]
}