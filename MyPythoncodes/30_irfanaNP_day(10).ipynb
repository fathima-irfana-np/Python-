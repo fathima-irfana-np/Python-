{
  "cells": [
    {
      "cell_type": "code",
      "execution_count": null,
      "metadata": {
        "colab": {
          "base_uri": "https://localhost:8080/"
        },
        "id": "e1ULHJOf03Nf",
        "outputId": "0d3cedc4-7074-4fee-876b-274a06bcbb42"
      },
      "outputs": [
        {
          "name": "stdout",
          "output_type": "stream",
          "text": [
            "enter a number 5\n",
            "120\n"
          ]
        }
      ],
      "source": [
        "# Write factorial problems\n",
        "import sys\n",
        "n=int(input(\"enter a number \"))\n",
        "if(n==0):\n",
        "    print(0)\n",
        "    sys.exit(0)\n",
        "facto=1\n",
        "while(n>0):\n",
        "    facto=facto*n\n",
        "    n-=1\n",
        "print(facto)"
      ]
    },
    {
      "cell_type": "markdown",
      "metadata": {
        "id": "zzlMshA31XMl"
      },
      "source": [
        "algorithm\n",
        "-----------\n",
        "\n",
        "in main():\n",
        "\n",
        "//inputs the number\n",
        "\n",
        "//outputs the factorial of number\n",
        "\n",
        "functionality:\n",
        "\n",
        "read int n\n",
        "\n",
        "if n==0 then return 0, exit the program\n",
        "\n",
        "otherwise\n",
        "\n",
        "facto=1\n",
        "\n",
        "while n is greater than zero,\n",
        "\n",
        "multiply n with facto, assign to facto\n",
        "\n",
        "decrement the n\n",
        "\n",
        "in the end of loop, facto will consist the factorial of n"
      ]
    }
  ],
  "metadata": {
    "colab": {
      "provenance": []
    },
    "kernelspec": {
      "display_name": "Python 3",
      "name": "python3"
    },
    "language_info": {
      "name": "python"
    }
  },
  "nbformat": 4,
  "nbformat_minor": 0
}
