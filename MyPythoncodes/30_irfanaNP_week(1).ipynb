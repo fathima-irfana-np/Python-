{
  "nbformat": 4,
  "nbformat_minor": 0,
  "metadata": {
    "colab": {
      "provenance": []
    },
    "kernelspec": {
      "name": "python3",
      "display_name": "Python 3"
    },
    "language_info": {
      "name": "python"
    }
  },
  "cells": [
    {
      "cell_type": "code",
      "execution_count": 1,
      "metadata": {
        "colab": {
          "base_uri": "https://localhost:8080/"
        },
        "id": "RRljnN373j4Q",
        "outputId": "3d5b1e55-d34e-418e-d0a2-6cce603790ed"
      },
      "outputs": [
        {
          "output_type": "stream",
          "name": "stdout",
          "text": [
            "[21, 48]\n",
            "[28, 48]\n",
            "[54, 111]\n"
          ]
        }
      ],
      "source": [
        "import sys\n",
        "def multiplcation(A,B):\n",
        "    rA=len(A)\n",
        "    rB=len(B)\n",
        "    cA=len(A[0])\n",
        "    cB=len(B[0])\n",
        "    Z=[[0 for _ in range(cB)]for _ in range(rA)]\n",
        "    if(cA != rB):\n",
        "        print(\"matrix multiplication is not possible\")\n",
        "        sys.exit(0)\n",
        "    else:\n",
        "        for i in range(rA):\n",
        "            for j in range(cB):\n",
        "                for k in range(rB):\n",
        "                    Z[i][j]+=A[i][k]*B[k][j]\n",
        "        return Z\n",
        "\n",
        "\n",
        "A= [ [1,2,3],\n",
        "    [1,3,2],\n",
        "    [4,5,6]]\n",
        "B=  [[2,3],\n",
        "     [8,9],\n",
        "     [1,9] ]\n",
        "\n",
        "result=multiplcation(A,B)\n",
        "for row in result:\n",
        "    print(row)"
      ]
    },
    {
      "cell_type": "markdown",
      "source": [
        "algorithm:-\n",
        "-------------\n",
        "input: gives two matrix as list\n",
        "output: matrix multiplication\n",
        "     Get sizes of A and B\n",
        "      Check if multiplication is possible (cols A must equal rows B)\n",
        "      Initialize the result matrix C with zeros (size: rows A x cols B)\n",
        "      Perform matrix multiplication\n",
        "      Example matrices\n",
        "     Multiply matrices A and B\n",
        "      Print the resulting matrix"
      ],
      "metadata": {
        "id": "WhoNy0Z94Iel"
      }
    }
  ]
}