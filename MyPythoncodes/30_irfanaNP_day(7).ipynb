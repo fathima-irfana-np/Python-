{
  "nbformat": 4,
  "nbformat_minor": 0,
  "metadata": {
    "colab": {
      "provenance": []
    },
    "kernelspec": {
      "name": "python3",
      "display_name": "Python 3"
    },
    "language_info": {
      "name": "python"
    }
  },
  "cells": [
    {
      "cell_type": "code",
      "execution_count": 1,
      "metadata": {
        "colab": {
          "base_uri": "https://localhost:8080/"
        },
        "id": "cAQ5OEKrJENZ",
        "outputId": "fefab804-59e4-4d9c-e0ae-e03b6045ae73"
      },
      "outputs": [
        {
          "output_type": "stream",
          "name": "stdout",
          "text": [
            "enter a number 5\n",
            "e\n",
            "ed\n",
            "edc\n",
            "edcb\n",
            "edcba\n"
          ]
        }
      ],
      "source": [
        "n=int(input(\"enter a number \"))\n",
        "y=\"\"\n",
        "for i in range (n):\n",
        "    y=y+chr(96+n)\n",
        "    print(y)\n",
        "    n-=1"
      ]
    },
    {
      "cell_type": "markdown",
      "source": [
        "Algorithm\n",
        "------------------\n",
        "main():\n",
        "\n",
        "// inputs the number like n=5\n",
        "\n",
        "//outputs the patttern like\n",
        "\n",
        "e\n",
        "\n",
        "ed\n",
        "\n",
        "edc\n",
        "\n",
        "edcb\n",
        "\n",
        "edcba\n",
        "\n",
        "//functioning:-\n",
        "\n",
        "input the number\n",
        "\n",
        "initialize a new character\n",
        "\n",
        "conduct loop upto a number of time n\n",
        "\n",
        "use chr() to convert to character ascii\n",
        "\n",
        "add it with y\n",
        "\n",
        "print y\n",
        "\n",
        "decrement n"
      ],
      "metadata": {
        "id": "Z7HvRu8RJT9z"
      }
    }
  ]
}