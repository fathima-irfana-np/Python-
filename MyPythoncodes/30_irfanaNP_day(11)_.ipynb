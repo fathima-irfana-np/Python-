{
  "nbformat": 4,
  "nbformat_minor": 0,
  "metadata": {
    "colab": {
      "provenance": []
    },
    "kernelspec": {
      "name": "python3",
      "display_name": "Python 3"
    },
    "language_info": {
      "name": "python"
    }
  },
  "cells": [
    {
      "cell_type": "code",
      "execution_count": null,
      "metadata": {
        "id": "k9KVl0H7-x8W"
      },
      "outputs": [],
      "source": [
        "def recur(digit):\n",
        "    if digit<=0:\n",
        "        return 0\n",
        "    return (digit%10)+recur(digit//10)\n",
        "num=int(input(\"num:\"))\n",
        "result=recur(num)\n",
        "print(  result )\n",
        "\n",
        ""
      ]
    },
    {
      "cell_type": "markdown",
      "source": [
        "\n",
        "algorithm=\n",
        "_______________\n",
        "input: take a number\n",
        "output: sum of digits\n",
        "\n",
        "1.take a input as n\n",
        "2.pass it into a function\n",
        "3.if n<=0 return 0\n",
        "4.else use Recursion\n",
        "5. recursively call value of n after finding sum with % and divide used to// remove last digit\n",
        "6.return the value and print it as output  "
      ],
      "metadata": {
        "id": "ITFr_3Lw-1ey"
      }
    }
  ]
}