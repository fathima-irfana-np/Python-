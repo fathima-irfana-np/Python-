{
 "cells": [
  {
   "cell_type": "code",
   "execution_count": null,
   "metadata": {
    "id": "19y6PkweNBI9"
   },
   "outputs": [],
   "source": [
    "import math\n",
    "def area_circle(side):\n",
    "    r=math.sqrt(2)*side\n",
    "    area=3.14*r*r\n",
    "    return area\n",
    "\n",
    "side =int (input(\"side=\"))\n",
    "result =area_circle(side)\n",
    "print(result)"
   ]
  },
  {
   "cell_type": "markdown",
   "metadata": {
    "id": "WxWai54zNB8q"
   },
   "source": [
    "Algorithm\n",
    "------------------\n",
    "\n",
    "def area_circle( a )\n",
    "//inputs length of a side(square )\n",
    "// outputs area of circle\n",
    " inputs side\n",
    " r= sqrt(2)*side\n",
    "area=3.14*r*r\n",
    "print(area)"
   ]
  }
 ],
 "metadata": {
  "colab": {
   "authorship_tag": "ABX9TyOyISYJK+ObMJFFW3EA0kGh",
   "provenance": []
  },
  "kernelspec": {
   "display_name": "Python 3",
   "name": "python3"
  },
  "language_info": {
   "name": "python"
  }
 },
 "nbformat": 4,
 "nbformat_minor": 0
}
