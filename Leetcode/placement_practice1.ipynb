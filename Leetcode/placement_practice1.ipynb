{
  "cells": [
    {
      "cell_type": "code",
      "execution_count": null,
      "metadata": {
        "colab": {
          "base_uri": "https://localhost:8080/"
        },
        "id": "j923NOEr2FAx",
        "outputId": "e2b44ec6-a023-433a-f076-4edddd5f268a"
      },
      "outputs": [
        {
          "name": "stdout",
          "output_type": "stream",
          "text": [
            "3\n",
            "1 -1 -1\n",
            "1\n"
          ]
        }
      ],
      "source": [
        "n=int(input())\n",
        "events=list(map(int,input().split()))\n",
        "unsolved,police=0,0\n",
        "for e in events:\n",
        "  if e==-1:\n",
        "    if police>0:\n",
        "      police-=1\n",
        "    else:\n",
        "      unsolved+=1\n",
        "  else:\n",
        "    police+=e\n",
        "print(unsolved)"
      ]
    },
    {
      "cell_type": "code",
      "execution_count": null,
      "metadata": {
        "colab": {
          "base_uri": "https://localhost:8080/"
        },
        "id": "PrROPHz9-viq",
        "outputId": "942413b4-6dd9-4f6c-aef0-fc7383437fef"
      },
      "outputs": [
        {
          "name": "stdout",
          "output_type": "stream",
          "text": [
            "6 2 1 2\n",
            "6\n"
          ]
        }
      ],
      "source": [
        "n,m,a,b=map(int,input().split())\n",
        "if a*m<b:\n",
        "  print(a*n)\n",
        "else:\n",
        "  print((n//m)*b+min(b,(n%m)*a))"
      ]
    },
    {
      "cell_type": "code",
      "execution_count": null,
      "metadata": {
        "id": "1ApgpAZQDZ8b"
      },
      "outputs": [],
      "source": [
        "n=int(input())\n",
        "i=1\n",
        "count=1\n",
        "while(True):\n",
        "  i+=1\n",
        "  if i%3==0:\n",
        "    i+=1\n",
        "  print(i)\n",
        "  if count==n:\n",
        "    break\n",
        "print(i)\n"
      ]
    },
    {
      "cell_type": "code",
      "execution_count": null,
      "metadata": {
        "id": "xGOJp4hALUYc"
      },
      "outputs": [],
      "source": [
        "n = int(input())\n",
        "for _ in range(n):\n",
        "  k=int(input())\n",
        "  i,count=1,0\n",
        "  while(1):\n",
        "    if i%3!=0 and i%10!=3:\n",
        "      count+=1\n",
        "      if count==k:\n",
        "        print(i)\n",
        "        break\n",
        "    i+=1"
      ]
    },
    {
      "cell_type": "code",
      "execution_count": null,
      "metadata": {
        "colab": {
          "base_uri": "https://localhost:8080/"
        },
        "id": "Im0kMGuaLVRj",
        "outputId": "044843c1-dfaa-4374-befe-6541095dde32"
      },
      "outputs": [
        {
          "name": "stdout",
          "output_type": "stream",
          "text": [
            "4 7\n",
            "2\n"
          ]
        }
      ],
      "source": [
        "# In the first sample, Limak weighs 4 and Bob weighs 7 initially.\n",
        "# After one year their weights are 4·3 = 12 and 7·2 = 14 respectively (one weight is tripled while the other one is doubled).\n",
        "#  Limak isn't larger than Bob yet. After the second year weights are 36 and 28, so the first weight is greater than the second one. Limak became larger than Bob after two years so you should print 2.\n",
        "# In the second sample, Limak's and Bob's weights in next years are: 12 and 18, then 36 and 36, and finally 108 and 72 (after three years).\n",
        "#  The answer is 3. Remember that Limak wants to be larger than Bob and he won't be satisfied with equal weights.\n",
        "# In the third sample, Limak becomes larger than Bob after the first year. Their weights will be 3 and 2 then\n",
        "l,b=list(map(int,input().split()))\n",
        "year=0\n",
        "while(True):\n",
        "  if l>b:\n",
        "    print(year)\n",
        "    break\n",
        "  else:\n",
        "    l=l*3\n",
        "    b=b*2\n",
        "    year+=1\n",
        "\n"
      ]
    },
    {
      "cell_type": "code",
      "execution_count": null,
      "metadata": {
        "colab": {
          "base_uri": "https://localhost:8080/"
        },
        "id": "KUHzUMUSdDez",
        "outputId": "4904a146-d003-4f65-851b-af2d90db5542"
      },
      "outputs": [
        {
          "name": "stdout",
          "output_type": "stream",
          "text": [
            "[6, 4, 2]\n"
          ]
        }
      ],
      "source": [
        "#list is dynamic , u can insert into any position also u can delete from any position, list is heterogenous.\n",
        "#in python, the object's id is a reference of that object, same objects has same id.\n",
        "list1=[1,2,3,4,5,6]\n",
        "print(list1[::-2])"
      ]
    },
    {
      "cell_type": "code",
      "execution_count": null,
      "metadata": {
        "colab": {
          "base_uri": "https://localhost:8080/"
        },
        "id": "02M3ECG5oAid",
        "outputId": "e2ae273d-f4a0-478c-cf94-ee3f1f4d92da"
      },
      "outputs": [
        {
          "name": "stdout",
          "output_type": "stream",
          "text": [
            "[1, 2, 4, 3]\n"
          ]
        }
      ],
      "source": [
        "list1=[1,1,2,4,2,3,2,3]\n",
        "list2=[]\n",
        "for i in range(len(list1)):\n",
        "  if list1[i] not in list2:\n",
        "    list2.append(list1[i])\n",
        "print(list2)\n"
      ]
    },
    {
      "cell_type": "code",
      "execution_count": null,
      "metadata": {
        "colab": {
          "base_uri": "https://localhost:8080/"
        },
        "id": "mr9FSaJppVwx",
        "outputId": "4b06bb34-bead-439c-d079-86eec9ac8e64"
      },
      "outputs": [
        {
          "name": "stdout",
          "output_type": "stream",
          "text": [
            "[1, 1, 4, 2, 3, 2, 3]\n"
          ]
        }
      ],
      "source": [
        "list1=[1,1,2,4,2,3,2,3]\n",
        "for i in list1:\n",
        "  if list1.count(i)>2:\n",
        "    list1.remove(i)\n",
        "print(list1)\n"
      ]
    },
    {
      "cell_type": "code",
      "execution_count": null,
      "metadata": {
        "colab": {
          "base_uri": "https://localhost:8080/"
        },
        "id": "TypbzIjor_q-",
        "outputId": "56887099-e831-44cf-f6d2-0e26edbcf6c2"
      },
      "outputs": [
        {
          "name": "stdout",
          "output_type": "stream",
          "text": [
            "{1, 3}\n"
          ]
        }
      ],
      "source": [
        "l=[2,1,2,2,3,1,1,2,3,3]\n",
        "#print 2 and 7\n",
        "myset=set()\n",
        "for x in l:\n",
        "  count=l.count(x)\n",
        "  if not count%2==0:\n",
        "    myset.add(x)\n",
        "print(myset)"
      ]
    },
    {
      "cell_type": "code",
      "execution_count": null,
      "metadata": {
        "colab": {
          "base_uri": "https://localhost:8080/"
        },
        "id": "kjME9kvjuPqm",
        "outputId": "c242589c-f1da-4590-874b-a1cc854df2e0"
      },
      "outputs": [
        {
          "name": "stdout",
          "output_type": "stream",
          "text": [
            "[8, 6, 4, 2, 1, 3, 5, 7]\n"
          ]
        }
      ],
      "source": [
        "#1 sort 1 list only\n",
        "list2=[]\n",
        "c=0\n",
        "list1=[1,2,3,4,5,6,7,8]\n",
        "list1.sort()\n",
        "for x in list1:\n",
        "  if x%2==0:\n",
        "    list2.append(x)\n",
        "for x in list1:\n",
        "  if not x%2==0:\n",
        "    list2.append(x)\n",
        "for x in list2:\n",
        "  c+=1\n",
        "  if not x%2==0:\n",
        "    break\n",
        "print(sorted(list2[:c],  reverse=True)+list2[c:])"
      ]
    },
    {
      "cell_type": "code",
      "execution_count": null,
      "metadata": {
        "colab": {
          "base_uri": "https://localhost:8080/"
        },
        "id": "JTNc3Rb4ymqH",
        "outputId": "3b47aca2-8672-45d8-9de5-1db19435c9a7"
      },
      "outputs": [
        {
          "name": "stdout",
          "output_type": "stream",
          "text": [
            "1 2 3 4\n",
            "true\n"
          ]
        }
      ],
      "source": [
        "import sys\n",
        "l=list(map(int,input().split()))\n",
        "x=l[0]\n",
        "for i in range(1,len(l)):\n",
        "  if not (x+1)==l[i]:\n",
        "    print(\"false\")\n",
        "    sys.exit(1)\n",
        "  x=l[i]\n",
        "print(\"true\")"
      ]
    },
    {
      "cell_type": "code",
      "execution_count": null,
      "metadata": {
        "colab": {
          "base_uri": "https://localhost:8080/"
        },
        "id": "s4dEGYlt98C1",
        "outputId": "e3477595-9e40-46e3-a276-10d5282bed37"
      },
      "outputs": [
        {
          "name": "stdout",
          "output_type": "stream",
          "text": [
            "True\n"
          ]
        }
      ],
      "source": [
        "l=[1,2,3,4]\n",
        "k=l[0]\n",
        "for i in range(len(l)-1):\n",
        "  if l[i]+1!=l[i+1]:\n",
        "      print(False)\n",
        "      break\n",
        "else:\n",
        "  print(True)"
      ]
    },
    {
      "cell_type": "code",
      "execution_count": null,
      "metadata": {
        "colab": {
          "base_uri": "https://localhost:8080/"
        },
        "id": "NwxxpYKFw-22",
        "outputId": "c5786fc2-98e7-4913-8329-10545e34cf67"
      },
      "outputs": [
        {
          "name": "stdout",
          "output_type": "stream",
          "text": [
            "[6, 4, 2, 1, 3, 5, 7]\n"
          ]
        }
      ],
      "source": [
        "l=[4,7,3,1,2,6,5]\n",
        "l.sort()\n",
        "res=[]\n",
        "for i in l:\n",
        "  if i%2!=0:\n",
        "    res.append(i)\n",
        "  else:\n",
        "    res.insert(0,i)\n",
        "print(res)"
      ]
    },
    {
      "cell_type": "code",
      "execution_count": null,
      "metadata": {
        "colab": {
          "base_uri": "https://localhost:8080/"
        },
        "id": "6p6EFsJ_xfxs",
        "outputId": "4e795e9c-95e4-404c-e97a-366249347622"
      },
      "outputs": [
        {
          "name": "stdout",
          "output_type": "stream",
          "text": [
            "9 9 9\n",
            "[1, 0, 0, 0]\n"
          ]
        }
      ],
      "source": [
        "# Input: digits = [1,2,3]\n",
        "# Output: [1,2,4]\n",
        "# Input: digits = [4,3,2,1]\n",
        "# Output: [4,3,2,2]\n",
        "\n",
        "digits=list(map(int,input().split()))\n",
        "string1=''.join(str(x) for x in digits)\n",
        "string1=int(string1)+1\n",
        "L=[ int(x) for x in str(string1) ]\n",
        "print(L)\n",
        "\n",
        "class Solution(object):\n",
        "    def plusOne(self, digits):\n",
        "        n = len(digits)\n",
        "\n",
        "\n",
        "        for i in range(n - 1, -1, -1):\n",
        "            if digits[i] < 9:\n",
        "                digits[i] += 1\n",
        "                return digits\n",
        "            digits[i] = 0\n",
        "        return [1] + digits\n",
        "\n",
        "\n"
      ]
    },
    {
      "cell_type": "code",
      "execution_count": null,
      "metadata": {
        "colab": {
          "base_uri": "https://localhost:8080/"
        },
        "id": "zOaJtoQ5sWE8",
        "outputId": "f1b26c87-7e47-459b-8eb6-cd6a2bbe2ff5"
      },
      "outputs": [
        {
          "name": "stdout",
          "output_type": "stream",
          "text": [
            "1\n"
          ]
        }
      ],
      "source": [
        "print(abs(1))"
      ]
    },
    {
      "cell_type": "code",
      "execution_count": null,
      "metadata": {
        "colab": {
          "base_uri": "https://localhost:8080/"
        },
        "id": "U32Twh2dm16I",
        "outputId": "c04b4195-da10-4780-fd2a-737736921d08"
      },
      "outputs": [
        {
          "name": "stdout",
          "output_type": "stream",
          "text": [
            "This is a raw string with \\n no escape\n"
          ]
        }
      ],
      "source": [
        "raw_string = r\"This is a raw string with \\n no escape\"\n",
        "print(raw_string)"
      ]
    },
    {
      "cell_type": "code",
      "execution_count": null,
      "metadata": {
        "colab": {
          "base_uri": "https://localhost:8080/"
        },
        "id": "-SVMOX_7n392",
        "outputId": "1ea8447f-b1e8-469f-d8e8-62bfb9e6d454"
      },
      "outputs": [
        {
          "name": "stdout",
          "output_type": "stream",
          "text": [
            "[3, 2, 1]\n",
            "o,l,l,e,h\n",
            "(30, 20, 10)\n"
          ]
        }
      ],
      "source": [
        "nums = [1, 2, 3]\n",
        "print(list(reversed(nums)))\n",
        "\n",
        "# String\n",
        "text = \"hello\"\n",
        "print(','.join(reversed(text)))\n",
        "\n",
        "# Tuple\n",
        "t = (10, 20, 30)\n",
        "print(tuple(reversed(t)))\n"
      ]
    },
    {
      "cell_type": "code",
      "execution_count": null,
      "metadata": {
        "colab": {
          "base_uri": "https://localhost:8080/"
        },
        "id": "rcltXZT5rfAi",
        "outputId": "694345e2-186e-447b-aa39-e7b7c4048686"
      },
      "outputs": [
        {
          "name": "stdout",
          "output_type": "stream",
          "text": [
            "3 2 3\n",
            "6\n",
            "[0, 2]\n"
          ]
        }
      ],
      "source": [
        "# Input: nums = [3,2,3], target = 6\n",
        "# Output: [0,2]\n",
        "\n",
        "L=list(map(int, input().split()))\n",
        "target=int(input())\n",
        "M=[]\n",
        "\n",
        "for i in range(len(L)-1):\n",
        "  if (L[i]+L[i+1])==target:\n",
        "    M.append(i)\n",
        "    M.append(i+1)\n",
        "    break\n",
        "  elif (L[i]+L[i+2])==target:\n",
        "    M.append(i)\n",
        "    M.append(i+2)\n",
        "    break\n",
        "\n",
        "print(M)\n"
      ]
    },
    {
      "cell_type": "code",
      "execution_count": null,
      "metadata": {
        "colab": {
          "base_uri": "https://localhost:8080/"
        },
        "id": "Hbdyp3Eowsy1",
        "outputId": "bed9b6b5-e655-4bb8-8fa9-599bd1f41e41"
      },
      "outputs": [
        {
          "name": "stdout",
          "output_type": "stream",
          "text": [
            "3 2 3\n",
            "6\n",
            "[0, 2]\n"
          ]
        }
      ],
      "source": [
        "# Input: nums = [3,2,3], target = 6\n",
        "# Output: [0,2]\n",
        "\n",
        "L=list(map(int, input().split()))\n",
        "target=int(input())\n",
        "M=[]\n",
        "\n",
        "for i in range(len(L)):\n",
        "  if len(M)==2:\n",
        "    break\n",
        "  for j in range(1,len(L)):\n",
        "    if (L[i]+L[j])==target:\n",
        "      M.append(i)\n",
        "      M.append(j)\n",
        "      break\n",
        "print(M)"
      ]
    },
    {
      "cell_type": "code",
      "execution_count": null,
      "metadata": {
        "id": "iiWoheFi0nxX"
      },
      "outputs": [],
      "source": [
        "class Solution(object):\n",
        "    def twoSum(self, nums, target):\n",
        "        for i in range(len(nums)):\n",
        "            for j in range(i + 1, len(nums)):\n",
        "                if nums[i] + nums[j] == target:\n",
        "                    return [i, j]"
      ]
    },
    {
      "cell_type": "code",
      "execution_count": null,
      "metadata": {
        "colab": {
          "base_uri": "https://localhost:8080/"
        },
        "id": "gw1N9FD7wtsu",
        "outputId": "67e5604a-1d96-4d9c-fd5a-59175a2ef237"
      },
      "outputs": [
        {
          "name": "stdout",
          "output_type": "stream",
          "text": [
            "7.0\n"
          ]
        }
      ],
      "source": [
        "L=[1,2,3,4,5,6]\n",
        "length=len(L)\n",
        "if length % 2 != 0:  # odd\n",
        "  print (float(L[length // 2]))\n",
        "else:\n",
        "  print (float((L[length // 2])+(L[(length // 2)-1])))\n",
        "\n"
      ]
    },
    {
      "cell_type": "code",
      "execution_count": null,
      "metadata": {
        "colab": {
          "base_uri": "https://localhost:8080/"
        },
        "id": "-kxragRcN8cu",
        "outputId": "9b664a00-7f26-48d8-9719-d3232dfddd22"
      },
      "outputs": [
        {
          "name": "stdout",
          "output_type": "stream",
          "text": [
            "2 3 5 6\n",
            "[2, 3, 4, 5]\n"
          ]
        }
      ],
      "source": [
        "l=list(map(int,input().split()))\n",
        "k=[]\n",
        "k.append(l[0])\n",
        "temp=l[0]\n",
        "for x in range(len(l)-1):\n",
        "  temp+=1\n",
        "  k.append(temp)\n",
        "print(k)\n",
        "\n",
        "\n",
        "AAAAAAAAAAAAAAAAAAAA"
      ]
    },
    {
      "cell_type": "code",
      "execution_count": null,
      "metadata": {
        "colab": {
          "base_uri": "https://localhost:8080/"
        },
        "id": "XDJVj2rQOFue",
        "outputId": "b577eebf-a4dd-4900-d060-c2217367ad96"
      },
      "outputs": [
        {
          "output_type": "stream",
          "name": "stdout",
          "text": [
            "2,3,4\n",
            "3\n"
          ]
        }
      ],
      "source": [
        "# Input: nums = [0,0,1,1,1,2,2,3,3,4]\n",
        "# Output: 5, nums = [0,1,2,3,4,_,_,_,_,_]\n",
        "\n",
        "L=list(map(int,input().split(',')))\n",
        "set1=set(L)\n",
        "new=[]\n",
        "new.extend(set1)\n",
        "new.sort()\n",
        "for i in range(len(L)-len(set1)):\n",
        "  new.append(_)\n",
        "print(len(set1))"
      ]
    },
    {
      "cell_type": "code",
      "source": [
        "# Input: nums = [0,2,0,1,1,1,2,3,3,4]\n",
        "# Output: 5, nums = [0,1,2,3,4,_,_,_,_,_]\n",
        "L=list(map(int,input().split(',')))\n",
        "string1=''\n",
        "c=0\n",
        "for x in L:\n",
        "  if str(x) not in string1:\n",
        "    string1+=str(x)\n",
        "  else:\n",
        "    c+=1\n",
        "del L[:]\n",
        "for x in string1:\n",
        "  L.append(int(x))\n",
        "count=len(L)\n",
        "for i in range(c):\n",
        "  L.append('_')\n",
        "print(count)\n",
        "\n",
        "\n",
        "\n"
      ],
      "metadata": {
        "colab": {
          "base_uri": "https://localhost:8080/"
        },
        "id": "6jI-3SA0rFbe",
        "outputId": "4b1ec882-78e6-4bed-9485-bbca72b5d0bf"
      },
      "execution_count": null,
      "outputs": [
        {
          "output_type": "stream",
          "name": "stdout",
          "text": [
            "0,2,0,1,1,1,2,3,3,4\n",
            "5\n"
          ]
        }
      ]
    },
    {
      "cell_type": "code",
      "execution_count": null,
      "metadata": {
        "colab": {
          "base_uri": "https://localhost:8080/"
        },
        "id": "4uZnkOUfzn1l",
        "outputId": "4e500be0-c1d7-490f-9ca9-be3ba5c390f9"
      },
      "outputs": [
        {
          "name": "stdout",
          "output_type": "stream",
          "text": [
            "[1, 2, 3, 4, 5, 6, 7, 8, 9]\n"
          ]
        }
      ],
      "source": [
        "l=[1,4,5]\n",
        "k=[2,3,6,7,8,9]\n",
        "i,j=0,0\n",
        "new=[]\n",
        "while i<len(l) and j<len(k):\n",
        "  if l[i]<k[j]:\n",
        "    new.append(l[i])\n",
        "    i+=1\n",
        "  else:\n",
        "    new.append(k[j])\n",
        "    j+=1\n",
        "if i<len(l):\n",
        "  new.extend(l[i:])\n",
        "else:\n",
        "  new.extend(k[j:])\n",
        "print(new)\n",
        "\n"
      ]
    },
    {
      "cell_type": "code",
      "execution_count": null,
      "metadata": {
        "colab": {
          "base_uri": "https://localhost:8080/"
        },
        "id": "03kAxuGf4CZw",
        "outputId": "1c21d57a-e4c6-4b65-c338-352c8208ec28"
      },
      "outputs": [
        {
          "output_type": "stream",
          "name": "stdout",
          "text": [
            "4\n",
            "20\n"
          ]
        }
      ],
      "source": [
        "n = int(input())\n",
        "L = [2, 3, 5, 1, 6, 7, 3, 4, 2, 4, 6, 2, 5]\n",
        "\n",
        "max_sum = 0\n",
        "for i in range(len(L) - n):\n",
        "    current_sum = L[i] + L[i+1] + L[i+2] + L[i+3]\n",
        "    if current_sum > max_sum:\n",
        "        max_sum = current_sum\n",
        "\n",
        "print(max_sum)"
      ]
    },
    {
      "cell_type": "code",
      "execution_count": null,
      "metadata": {
        "colab": {
          "base_uri": "https://localhost:8080/",
          "height": 193
        },
        "id": "WXdKHNAH7z8f",
        "outputId": "750ab6c2-f6dd-4326-db4e-d314bfc70cca"
      },
      "outputs": [
        {
          "ename": "TypeError",
          "evalue": "'int' object is not callable",
          "output_type": "error",
          "traceback": [
            "\u001b[0;31m---------------------------------------------------------------------------\u001b[0m",
            "\u001b[0;31mTypeError\u001b[0m                                 Traceback (most recent call last)",
            "\u001b[0;32m/tmp/ipython-input-3607993051.py\u001b[0m in \u001b[0;36m<cell line: 0>\u001b[0;34m()\u001b[0m\n\u001b[1;32m      7\u001b[0m     \u001b[0;32mfor\u001b[0m \u001b[0mj\u001b[0m \u001b[0;32min\u001b[0m \u001b[0mrange\u001b[0m\u001b[0;34m(\u001b[0m\u001b[0mi\u001b[0m\u001b[0;34m,\u001b[0m \u001b[0mk\u001b[0m \u001b[0;34m+\u001b[0m \u001b[0mi\u001b[0m\u001b[0;34m)\u001b[0m\u001b[0;34m:\u001b[0m\u001b[0;34m\u001b[0m\u001b[0;34m\u001b[0m\u001b[0m\n\u001b[1;32m      8\u001b[0m         \u001b[0ms\u001b[0m \u001b[0;34m+=\u001b[0m \u001b[0mL\u001b[0m\u001b[0;34m[\u001b[0m\u001b[0mj\u001b[0m\u001b[0;34m]\u001b[0m\u001b[0;34m\u001b[0m\u001b[0;34m\u001b[0m\u001b[0m\n\u001b[0;32m----> 9\u001b[0;31m     \u001b[0mm\u001b[0m \u001b[0;34m=\u001b[0m \u001b[0mmax\u001b[0m\u001b[0;34m(\u001b[0m\u001b[0mm\u001b[0m\u001b[0;34m,\u001b[0m \u001b[0ms\u001b[0m\u001b[0;34m)\u001b[0m\u001b[0;34m\u001b[0m\u001b[0;34m\u001b[0m\u001b[0m\n\u001b[0m\u001b[1;32m     10\u001b[0m \u001b[0mprint\u001b[0m\u001b[0;34m(\u001b[0m\u001b[0mm\u001b[0m\u001b[0;34m)\u001b[0m\u001b[0;34m\u001b[0m\u001b[0;34m\u001b[0m\u001b[0m\n",
            "\u001b[0;31mTypeError\u001b[0m: 'int' object is not callable"
          ]
        }
      ],
      "source": [
        "L = [2, 3, 5, 1, 6, 7, 3, 4, 2, 4, 6, 2, 5]\n",
        "k = 4\n",
        "m = 0\n",
        "\n",
        "for i in range(len(L) - k + 1):\n",
        "    s = 0\n",
        "    for j in range(i, k + i):\n",
        "        s += L[j]\n",
        "    m = max(m, s)\n",
        "print(m)"
      ]
    },
    {
      "cell_type": "code",
      "execution_count": null,
      "metadata": {
        "colab": {
          "base_uri": "https://localhost:8080/"
        },
        "id": "8LV83rhP6wrc",
        "outputId": "05c55ac7-e950-4595-fc84-3ed32cf0858d"
      },
      "outputs": [
        {
          "name": "stdout",
          "output_type": "stream",
          "text": [
            "3\n",
            "16\n"
          ]
        }
      ],
      "source": [
        "n = int(input())\n",
        "L = [2, 3, 5, 1, 6, 7, 3, 4, 2, 4, 6, 2, 5]\n",
        "\n",
        "max_sum = 0\n",
        "i = 0\n",
        "\n",
        "while i + n <= len(L):\n",
        "    current = sum(L[i:i + n])\n",
        "    if current > max_sum:\n",
        "        max_sum = current\n",
        "    i += 1\n",
        "\n",
        "print(max_sum)"
      ]
    },
    {
      "cell_type": "code",
      "execution_count": null,
      "metadata": {
        "colab": {
          "base_uri": "https://localhost:8080/",
          "height": 228
        },
        "id": "OcfumDCI5gXE",
        "outputId": "9c60b2c1-3567-4244-cf45-f4b96bd47f31"
      },
      "outputs": [
        {
          "name": "stdout",
          "output_type": "stream",
          "text": [
            "4\n"
          ]
        },
        {
          "output_type": "error",
          "ename": "TypeError",
          "evalue": "'int' object is not callable",
          "traceback": [
            "\u001b[0;31m---------------------------------------------------------------------------\u001b[0m",
            "\u001b[0;31mTypeError\u001b[0m                                 Traceback (most recent call last)",
            "\u001b[0;32m/tmp/ipython-input-3880321800.py\u001b[0m in \u001b[0;36m<cell line: 0>\u001b[0;34m()\u001b[0m\n\u001b[1;32m      1\u001b[0m \u001b[0mn\u001b[0m \u001b[0;34m=\u001b[0m \u001b[0mint\u001b[0m\u001b[0;34m(\u001b[0m\u001b[0minput\u001b[0m\u001b[0;34m(\u001b[0m\u001b[0;34m)\u001b[0m\u001b[0;34m)\u001b[0m\u001b[0;34m\u001b[0m\u001b[0;34m\u001b[0m\u001b[0m\n\u001b[1;32m      2\u001b[0m \u001b[0ma\u001b[0m \u001b[0;34m=\u001b[0m \u001b[0;34m[\u001b[0m\u001b[0;36m2\u001b[0m\u001b[0;34m,\u001b[0m \u001b[0;36m3\u001b[0m\u001b[0;34m,\u001b[0m \u001b[0;36m5\u001b[0m\u001b[0;34m,\u001b[0m \u001b[0;36m1\u001b[0m\u001b[0;34m,\u001b[0m \u001b[0;36m6\u001b[0m\u001b[0;34m,\u001b[0m \u001b[0;36m7\u001b[0m\u001b[0;34m,\u001b[0m \u001b[0;36m3\u001b[0m\u001b[0;34m,\u001b[0m \u001b[0;36m4\u001b[0m\u001b[0;34m,\u001b[0m \u001b[0;36m2\u001b[0m\u001b[0;34m,\u001b[0m \u001b[0;36m4\u001b[0m\u001b[0;34m,\u001b[0m \u001b[0;36m6\u001b[0m\u001b[0;34m,\u001b[0m \u001b[0;36m2\u001b[0m\u001b[0;34m,\u001b[0m \u001b[0;36m5\u001b[0m\u001b[0;34m]\u001b[0m\u001b[0;34m\u001b[0m\u001b[0;34m\u001b[0m\u001b[0m\n\u001b[0;32m----> 3\u001b[0;31m \u001b[0msum\u001b[0m\u001b[0;34m=\u001b[0m\u001b[0msum\u001b[0m\u001b[0;34m(\u001b[0m\u001b[0ma\u001b[0m\u001b[0;34m[\u001b[0m\u001b[0;34m:\u001b[0m\u001b[0mn\u001b[0m\u001b[0;34m]\u001b[0m\u001b[0;34m)\u001b[0m\u001b[0;34m\u001b[0m\u001b[0;34m\u001b[0m\u001b[0m\n\u001b[0m\u001b[1;32m      4\u001b[0m \u001b[0mm\u001b[0m\u001b[0;34m=\u001b[0m\u001b[0msum\u001b[0m\u001b[0;34m\u001b[0m\u001b[0;34m\u001b[0m\u001b[0m\n\u001b[1;32m      5\u001b[0m \u001b[0;34m\u001b[0m\u001b[0m\n",
            "\u001b[0;31mTypeError\u001b[0m: 'int' object is not callable"
          ]
        }
      ],
      "source": [
        "n = int(input())\n",
        "a = [2, 3, 5, 1, 6, 7, 3, 4, 2, 4, 6, 2, 5]\n",
        "sum=sum(a[:n])\n",
        "m=sum\n",
        "\n",
        "for i in range(1,len(a)-n):\n",
        "  sum=sum-a[i-1]+a[i+n-1]\n",
        "  m=max(m,sum)\n",
        "print(m)"
      ]
    }
  ],
  "metadata": {
    "colab": {
      "provenance": []
    },
    "kernelspec": {
      "display_name": "Python 3",
      "name": "python3"
    },
    "language_info": {
      "name": "python"
    }
  },
  "nbformat": 4,
  "nbformat_minor": 0
}