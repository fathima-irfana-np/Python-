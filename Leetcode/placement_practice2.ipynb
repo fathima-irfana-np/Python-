{
  "nbformat": 4,
  "nbformat_minor": 0,
  "metadata": {
    "colab": {
      "provenance": []
    },
    "kernelspec": {
      "name": "python3",
      "display_name": "Python 3"
    },
    "language_info": {
      "name": "python"
    }
  },
  "cells": [
    {
      "cell_type": "code",
      "execution_count": null,
      "metadata": {
        "id": "eWYo7dTUAC33",
        "colab": {
          "base_uri": "https://localhost:8080/",
          "height": 211
        },
        "outputId": "56ed5666-47f3-403b-c4bf-691f1b600e90"
      },
      "outputs": [
        {
          "output_type": "error",
          "ename": "KeyboardInterrupt",
          "evalue": "",
          "traceback": [
            "\u001b[0;31m---------------------------------------------------------------------------\u001b[0m",
            "\u001b[0;31mKeyboardInterrupt\u001b[0m                         Traceback (most recent call last)",
            "\u001b[0;32m/tmp/ipython-input-3635803346.py\u001b[0m in \u001b[0;36m<cell line: 0>\u001b[0;34m()\u001b[0m\n\u001b[1;32m      8\u001b[0m \u001b[0ml\u001b[0m\u001b[0;34m,\u001b[0m\u001b[0mr\u001b[0m\u001b[0;34m=\u001b[0m\u001b[0;36m0\u001b[0m\u001b[0;34m,\u001b[0m\u001b[0;36m0\u001b[0m\u001b[0;34m\u001b[0m\u001b[0;34m\u001b[0m\u001b[0m\n\u001b[1;32m      9\u001b[0m \u001b[0msum\u001b[0m\u001b[0;34m=\u001b[0m\u001b[0;36m0\u001b[0m\u001b[0;34m\u001b[0m\u001b[0;34m\u001b[0m\u001b[0m\n\u001b[0;32m---> 10\u001b[0;31m \u001b[0;32mwhile\u001b[0m\u001b[0;34m(\u001b[0m\u001b[0mlen\u001b[0m\u001b[0;34m(\u001b[0m\u001b[0marr\u001b[0m\u001b[0;34m)\u001b[0m\u001b[0;34m!=\u001b[0m\u001b[0mr\u001b[0m\u001b[0;34m)\u001b[0m\u001b[0;34m:\u001b[0m\u001b[0;34m\u001b[0m\u001b[0;34m\u001b[0m\u001b[0m\n\u001b[0m\u001b[1;32m     11\u001b[0m   \u001b[0;32mif\u001b[0m\u001b[0;34m(\u001b[0m\u001b[0msum\u001b[0m\u001b[0;34m<\u001b[0m\u001b[0mk\u001b[0m\u001b[0;34m)\u001b[0m\u001b[0;34m:\u001b[0m\u001b[0;34m\u001b[0m\u001b[0;34m\u001b[0m\u001b[0m\n\u001b[1;32m     12\u001b[0m     \u001b[0mcalc\u001b[0m\u001b[0;34m=\u001b[0m\u001b[0ml\u001b[0m\u001b[0;34m-\u001b[0m\u001b[0mr\u001b[0m\u001b[0;34m+\u001b[0m\u001b[0;36m1\u001b[0m\u001b[0;34m\u001b[0m\u001b[0;34m\u001b[0m\u001b[0m\n",
            "\u001b[0;31mKeyboardInterrupt\u001b[0m: "
          ]
        }
      ],
      "source": [
        "#sub array = continous part of array (sliding window )\n",
        "#subsequent array= allows skip - subarray\n",
        "#subset\n",
        "\n",
        "#QUESTION: max subarray length with sum less than k\n",
        "arr = [6, 4, 5, 6, 7, 8, 5, 2, 1, 4, 9, 2, 4, 7]\n",
        "k = 13\n",
        "\n",
        "l = 0\n",
        "r = 0\n",
        "sum = 0\n",
        "max_len = 0\n",
        "\n",
        "while r < len(arr):\n",
        "    sum += arr[r]\n",
        "\n",
        "    # shrink window if sum >= k\n",
        "    while sum >= k:\n",
        "        sum -= arr[l]\n",
        "        l += 1\n",
        "\n",
        "    # update max length\n",
        "    max_len = max(max_len, r - l + 1)\n",
        "    r += 1\n",
        "\n",
        "print(max_len)"
      ]
    },
    {
      "cell_type": "code",
      "source": [
        "#DS\n",
        "#hashing\n",
        "#array,sub array ,sequencial,etc\n",
        "#sliding windows\n",
        "#matrix"
      ],
      "metadata": {
        "id": "5hLoLBgPScDv"
      },
      "execution_count": null,
      "outputs": []
    },
    {
      "cell_type": "code",
      "source": [
        "class Solution(object):\n",
        "    def maxScore(self, cardPoints, k):\n",
        "        n = len(cardPoints)\n",
        "        total = sum(cardPoints[:k])  # Take first k cards\n",
        "        max_score = total\n",
        "\n",
        "        for i in range(1, k + 1):\n",
        "            # Slide the window: remove from front, add from back\n",
        "            front = cardPoints[k - i]\n",
        "            back = cardPoints[-i]\n",
        "            total = total - front + back\n",
        "            max_score = max(max_score, total)\n",
        "\n",
        "        return max_score"
      ],
      "metadata": {
        "id": "lb_ZNmtVETQD"
      },
      "execution_count": null,
      "outputs": []
    },
    {
      "cell_type": "code",
      "source": [
        "k=5\n",
        "L=[1,2,1,3,2]\n",
        "M=[17,21,20,19,18]\n",
        "dict1={}\n",
        "j=0\n",
        "for i in range(len(M)):\n",
        "  if(L[i] in dict1.keys()):\n",
        "      dict1[L[i]].append(M[i])\n",
        "  else:\n",
        "    dict1[L[i]]=[M[i]]\n",
        "\n",
        "# print(dict1)    {1: [17, 20], 2: [21, 18], 3: [19]}\n",
        "i=0\n",
        "count=0\n",
        "for x,ylist in dict1.items():\n",
        "  for i in range(len(ylist)):\n",
        "    if ylist[i]>= 18 and len(ylist)!=i:\n",
        "      count+=1\n",
        "    i+=1\n",
        "    dict1[x]=count\n",
        "\n",
        "print(dict1)\n",
        "\n",
        "AAAAAAAAAAAAAAAAAAAAAAAAAAAAAAAAAAAAAAAAAAAAAAAAAAAAAA\n"
      ],
      "metadata": {
        "colab": {
          "base_uri": "https://localhost:8080/"
        },
        "id": "6K_tVliOSnMO",
        "outputId": "e27c492d-a304-45fe-dfc7-a944e27d01d6"
      },
      "execution_count": null,
      "outputs": [
        {
          "output_type": "stream",
          "name": "stdout",
          "text": [
            "{1: 1, 2: 3, 3: 4}\n"
          ]
        }
      ]
    },
    {
      "cell_type": "code",
      "source": [
        "n=int(input())\n",
        "vote=list(map(int,input().split()))\n",
        "age=list(map(int,input().split()))\n",
        "c=[0]*max(vote)\n",
        "for i in range(n):\n",
        "    if age[i]>=18:\n",
        "        c[vote[i]-1]+=1\n",
        "\n",
        "print(c)\n",
        "m = max(c)\n",
        "if c.count(m) > 1:\n",
        "    print(-1)\n",
        "else:\n",
        "    print(c.index(m) + 1)\n",
        "\n",
        "  aaaaaaaaaaaaaaaaaaaaaaaaaaaaaaaaaaaaaaaaaaaaaaaaaaaaaaaaaaaaaaaaaaaaaaaaaaaaaaaaaaaaaaaaaa"
      ],
      "metadata": {
        "id": "QIfNy7tHUei2"
      },
      "execution_count": null,
      "outputs": []
    },
    {
      "cell_type": "code",
      "source": [
        "L=[1,2,2,3,3,2,1,1,2]\n",
        "dict1={}\n",
        "for x in L:\n",
        "    dict1[x]=L.count(x)\n",
        "l=[x for x in dict1.values()]\n",
        "l.sort()\n",
        "for x in dict1:\n",
        "    if l[1]==dict1[x]:\n",
        "        print(x)"
      ],
      "metadata": {
        "colab": {
          "base_uri": "https://localhost:8080/"
        },
        "id": "4ZQqOSwY2J9v",
        "outputId": "418be7a0-3bb3-40db-96e9-2600877e2c5f"
      },
      "execution_count": null,
      "outputs": [
        {
          "output_type": "stream",
          "name": "stdout",
          "text": [
            "1\n"
          ]
        }
      ]
    },
    {
      "cell_type": "code",
      "source": [
        "#The important part\n",
        "l=[1,3,2,4,2,3]\n",
        "max1,max2=0,0\n",
        "for i in l:\n",
        "  if i>max1:\n",
        "    max2=max1\n",
        "    max1=i\n",
        "  elif i >max2 and i!=max1:\n",
        "    max2=i\n",
        "print(max2)"
      ],
      "metadata": {
        "colab": {
          "base_uri": "https://localhost:8080/"
        },
        "id": "HNaBtWam4ZFq",
        "outputId": "20300731-2c09-4ae2-b4b4-038c284bffc6"
      },
      "execution_count": null,
      "outputs": [
        {
          "output_type": "stream",
          "name": "stdout",
          "text": [
            "3\n"
          ]
        }
      ]
    },
    {
      "cell_type": "code",
      "source": [
        "L=[10,2,2,3,3,2,10,10,2]\n",
        "dict1={}\n",
        "e1,e2=0,0\n",
        "for i in L:\n",
        "    if i not in dict1:\n",
        "      dict1[i]=1\n",
        "    else:\n",
        "      dict1[i]+=1\n",
        "print(dict1)\n",
        "max1,max2=0,0\n",
        "for i in dict1:\n",
        "  if dict1[i]>max1:\n",
        "    max2=max1\n",
        "    e2=e1\n",
        "    max1= dict1[i]\n",
        "    e1=i\n",
        "  elif  dict1[i] >max2 and  dict1[i]!=max1:\n",
        "    max2= dict1[i]\n",
        "    e2=i\n",
        "print(e2)"
      ],
      "metadata": {
        "colab": {
          "base_uri": "https://localhost:8080/"
        },
        "id": "ZcF46fFc24QP",
        "outputId": "a1d1733e-19a6-4a43-cd7c-1df197803abf"
      },
      "execution_count": null,
      "outputs": [
        {
          "output_type": "stream",
          "name": "stdout",
          "text": [
            "{10: 3, 2: 4, 3: 2}\n",
            "10\n"
          ]
        }
      ]
    },
    {
      "cell_type": "code",
      "source": [
        "nums= [1,3,2,2,5,2,3,7]\n",
        "nums.sort()\n",
        "for x in nums:\n",
        "    print()\n",
        "# 594. Longest Harmonious Subsequence\n",
        "\n",
        "AAAAAAAAAAAAAAAAAAAAAAAAAAAAAAAAAAAAAAAAAAAAAAAAAAAAAAAAAAAAAAAA"
      ],
      "metadata": {
        "id": "uSfYV2vj6aiH"
      },
      "execution_count": null,
      "outputs": []
    },
    {
      "cell_type": "code",
      "source": [
        "class Solution(object):\n",
        "    def findLHS(self, nums):\n",
        "        #type nums: List[int]\n",
        "        #rtype: int\n",
        "        d={}\n",
        "        for i in nums:\n",
        "            if i not in d:\n",
        "                d[i]=1\n",
        "            else:\n",
        "                d[i]+=1\n",
        "        max=0\n",
        "        for k in d:\n",
        "            if k+1 in d and d[k]+d[k+1]>max:\n",
        "                max=d[k]+d[k+1]\n",
        "        return max\n"
      ],
      "metadata": {
        "id": "RmXtBK75B7Nb"
      },
      "execution_count": null,
      "outputs": []
    },
    {
      "cell_type": "code",
      "source": [
        "# INPUT=\"baab\"  = \" \"\n",
        "# INPUT=\"baaab\" = bab\n",
        "\n",
        "string1 = input()\n",
        "stack = []\n",
        "\n",
        "for x in string1:\n",
        "    if stack and x == stack[-1]:  # stack[-1] is the top most element\n",
        "        stack.pop()\n",
        "    else:\n",
        "        stack.append(x)\n",
        "\n",
        "print(\"\".join(stack))\n"
      ],
      "metadata": {
        "colab": {
          "base_uri": "https://localhost:8080/"
        },
        "id": "8wMuj4ywComL",
        "outputId": "7ddae590-6310-4402-9337-fe946258e016"
      },
      "execution_count": null,
      "outputs": [
        {
          "output_type": "stream",
          "name": "stdout",
          "text": [
            "baaab\n",
            "bab\n"
          ]
        }
      ]
    },
    {
      "cell_type": "code",
      "source": [
        "def fun(n):\n",
        "  string1=\"\"\n",
        "  if n==0:\n",
        "    return 0\n",
        "  else:\n",
        "\n",
        "\n",
        "a=int(input(\"enter the number\"))\n",
        "fun(a)"
      ],
      "metadata": {
        "colab": {
          "base_uri": "https://localhost:8080/",
          "height": 106
        },
        "id": "_5JtbLJTC9rW",
        "outputId": "41363e70-77c5-4ec4-98c6-1acf63db4169"
      },
      "execution_count": null,
      "outputs": [
        {
          "output_type": "error",
          "ename": "IndentationError",
          "evalue": "expected an indented block after 'else' statement on line 4 (ipython-input-2412258305.py, line 6)",
          "traceback": [
            "\u001b[0;36m  File \u001b[0;32m\"/tmp/ipython-input-2412258305.py\"\u001b[0;36m, line \u001b[0;32m6\u001b[0m\n\u001b[0;31m    a=int(input(\"enter the number\"))\u001b[0m\n\u001b[0m                                    ^\u001b[0m\n\u001b[0;31mIndentationError\u001b[0m\u001b[0;31m:\u001b[0m expected an indented block after 'else' statement on line 4\n"
          ]
        }
      ]
    },
    {
      "cell_type": "code",
      "source": [
        "def fun(n):\n",
        "  list1=[]\n",
        "  if n==0:\n",
        "    return 0\n",
        "  else:\n",
        "    j=2\n",
        "    for i in range((n+n)-1):\n",
        "\n",
        "      if(i<=n):\n",
        "        list1.append(i)\n",
        "      elif(i>n):\n",
        "        list1.append(n-j)\n",
        "        j+=1\n",
        "    string1=' '.join(str(x) for x in list1)\n",
        "    return string1\n",
        "\n",
        "\n",
        "n=int(input(\"enter the number\"))\n",
        "res=fun(n)\n",
        "print(res)"
      ],
      "metadata": {
        "id": "ekgXUu797p0C"
      },
      "execution_count": null,
      "outputs": []
    },
    {
      "cell_type": "code",
      "source": [
        "def fun(n):\n",
        "    if n==0:\n",
        "        return 200\n",
        "    print(n,end=\" \")\n",
        "    fun(n-1)\n",
        "    if n<=5:\n",
        "        print(n,end=\" \")\n",
        "\n",
        "n=int(input(\"enter the number\"))\n",
        "fun(n)"
      ],
      "metadata": {
        "id": "QfEA4kp68Zr7"
      },
      "execution_count": null,
      "outputs": []
    },
    {
      "cell_type": "code",
      "source": [
        "def fun(n):\n",
        "    if n==0:\n",
        "        return 200\n",
        "    print(n,end=\" \")\n",
        "    fun(n-1)\n",
        "    if n<=5:\n",
        "        print(n,end=\" \")\n",
        "\n",
        "n=int(input(\"enter the number\"))\n",
        "fun(n)"
      ],
      "metadata": {
        "id": "kAWgzTdEFlwB"
      },
      "execution_count": null,
      "outputs": []
    },
    {
      "cell_type": "code",
      "source": [
        "\n",
        "n=int(input(\"enter the number\"))\n",
        "res=fun(n)\n",
        "print(res)\n",
        "\n",
        "def fun(n):\n",
        "    if n==0:\n",
        "        return 200\n",
        "    t=fun(n-1)\n",
        "    print(n,end=\" \")\n",
        "    return t\n",
        "\n",
        "n=int(input(\"enter the number\"))\n",
        "print(fun(n))"
      ],
      "metadata": {
        "id": "hQVohtUlF2DI"
      },
      "execution_count": null,
      "outputs": []
    },
    {
      "cell_type": "code",
      "source": [
        "def fun(n):\n",
        "  list1=[]\n",
        "  if n==0:\n",
        "    return 0\n",
        "  else:\n",
        "    j=2\n",
        "    for i in range((n+n)-1):\n",
        "\n",
        "      if(i<=n):\n",
        "        list1.append(i)\n",
        "      elif(i>n):\n",
        "        list1.append(n-j)\n",
        "        j+=1\n",
        "    string1=' '.join(str(x) for x in list1)\n",
        "    return string1"
      ],
      "metadata": {
        "id": "HDPk_PKoF4Zr"
      },
      "execution_count": null,
      "outputs": []
    },
    {
      "cell_type": "code",
      "source": [
        "def sum_of_digits(n):\n",
        "    if n == 0:\n",
        "        return 0\n",
        "    return n % 10 + sum_of_digits(n // 10)\n",
        "n = int(input(\"Enter a number: \"))\n",
        "print(\"Sum of digits:\", sum_of_digits(n))\n"
      ],
      "metadata": {
        "colab": {
          "base_uri": "https://localhost:8080/"
        },
        "id": "W9y8a0FkHvOC",
        "outputId": "3fec276e-6ba5-4fd9-9353-66c658af5f2b"
      },
      "execution_count": null,
      "outputs": [
        {
          "output_type": "stream",
          "name": "stdout",
          "text": [
            "Enter a number: 123\n",
            "Sum of digits: 6\n"
          ]
        }
      ]
    },
    {
      "cell_type": "code",
      "source": [
        "# Input : n = 15\n",
        "# Output : 5\n",
        "#  15 is odd 15+1=16\n",
        "#  16 is even 16/2=8\n",
        "#  8  is even 8/2=4\n",
        "#  4  is even 4/2=2\n",
        "#  2  is even 2/2=1\n",
        "def countways(n):\n",
        "    if (n == 1):\n",
        "        return 0;\n",
        "    elif (n % 2 == 0):\n",
        "        return 1 + countways(n / 2);\n",
        "    else:#odd\n",
        "        return 1 + min(countways(n - 1),\n",
        "                    countways(n + 1))\n",
        "\n",
        "n = 15;\n",
        "print(countways(n));"
      ],
      "metadata": {
        "colab": {
          "base_uri": "https://localhost:8080/"
        },
        "id": "SG-V5esgH9L4",
        "outputId": "ec6c5425-fe7e-42dc-e6c4-6a303b80c00f"
      },
      "execution_count": null,
      "outputs": [
        {
          "output_type": "stream",
          "name": "stdout",
          "text": [
            "5\n"
          ]
        }
      ]
    },
    {
      "cell_type": "code",
      "source": [
        "def facto(n):\n",
        "    if n == 0:\n",
        "      return  #nirthiyekk\n",
        "    elif n==1:\n",
        "      return 1 #base condition\n",
        "    else:\n",
        "        return n*facto(n-1)\n",
        "n=5;\n",
        "print(facto(n))"
      ],
      "metadata": {
        "colab": {
          "base_uri": "https://localhost:8080/"
        },
        "id": "Srcfxhf7K4YF",
        "outputId": "cd13337f-a0c3-44a7-e3f1-b0b4a3bece3d"
      },
      "execution_count": null,
      "outputs": [
        {
          "output_type": "stream",
          "name": "stdout",
          "text": [
            "120\n"
          ]
        }
      ]
    },
    {
      "cell_type": "code",
      "source": [
        "def fib(n):\n",
        "    if n <= 1:\n",
        "        return n\n",
        "    return fib(n - 1) + fib(n - 2)\n",
        "n=5;\n",
        "print(fib(n))"
      ],
      "metadata": {
        "id": "j5MaMFHJLo2g"
      },
      "execution_count": null,
      "outputs": []
    },
    {
      "cell_type": "code",
      "source": [
        "# Print numbers from N to 1\n",
        "def fun(n):\n",
        "    if n <=0:\n",
        "        return\n",
        "    print(n,end=\" \")\n",
        "    fun(n - 1)\n",
        "n=5;\n",
        "fun(n)"
      ],
      "metadata": {
        "colab": {
          "base_uri": "https://localhost:8080/"
        },
        "id": "Plk3tQdxPwZn",
        "outputId": "61820d1a-0efd-4ded-dd56-0e1312cde178"
      },
      "execution_count": null,
      "outputs": [
        {
          "output_type": "stream",
          "name": "stdout",
          "text": [
            "5 4 3 2 1 "
          ]
        }
      ]
    },
    {
      "cell_type": "code",
      "source": [
        "def fun(n):\n",
        "    if n <= 0:\n",
        "        return\n",
        "    fun(n - 1)      # go down first\n",
        "    print(n,end=\" \")       # print on the way back up\n",
        "\n",
        "n = 5\n",
        "fun(n)"
      ],
      "metadata": {
        "colab": {
          "base_uri": "https://localhost:8080/"
        },
        "id": "5bq0b7hdROU2",
        "outputId": "c5ac1b7b-f7c3-4b01-c9d0-bc4cdee5fe94"
      },
      "execution_count": null,
      "outputs": [
        {
          "output_type": "stream",
          "name": "stdout",
          "text": [
            "1 2 3 4 5 "
          ]
        }
      ]
    },
    {
      "cell_type": "code",
      "source": [
        "def fun(n):\n",
        "    if n <= 0:\n",
        "        return\n",
        "    print(n,end=\" \")\n",
        "    fun(n - 1)\n",
        "    print(n,end=\" \")\n",
        "n = 5\n",
        "fun(n)"
      ],
      "metadata": {
        "colab": {
          "base_uri": "https://localhost:8080/"
        },
        "id": "K3M9e-4uRyXB",
        "outputId": "791991e7-a18f-4b80-86f5-6876a7065262"
      },
      "execution_count": null,
      "outputs": [
        {
          "output_type": "stream",
          "name": "stdout",
          "text": [
            "5 4 3 2 1 1 2 3 4 5 "
          ]
        }
      ]
    },
    {
      "cell_type": "code",
      "source": [
        "L=[[0 for _ in range(3)] for _ in range(3)]\n",
        "for row in L:\n",
        "  print (row)\n",
        "\n",
        "# Why Index 0 Makes This Clean:\n",
        "# If arrays started at index 1, then:\n",
        "# Address of A[1] = A + (1 × size)\n",
        "\n",
        "# base address + size of datatype * offset\n",
        "# 0*100 + 4*1\n",
        "# 0*100 + 4*2"
      ],
      "metadata": {
        "colab": {
          "base_uri": "https://localhost:8080/"
        },
        "id": "zYAyHcLmSH0K",
        "outputId": "1a4ccc9d-5c66-488e-c410-6aba947c5659"
      },
      "execution_count": null,
      "outputs": [
        {
          "output_type": "stream",
          "name": "stdout",
          "text": [
            "[0, 0, 0]\n",
            "[0, 0, 0]\n",
            "[0, 0, 0]\n"
          ]
        }
      ]
    },
    {
      "cell_type": "code",
      "source": [
        "def fire(grid, i, j):\n",
        "    # Boundary & water check\n",
        "    if i < 0 or i >= len(grid) or j < 0 or j >= len(grid[0]) or grid[i][j] != 1:\n",
        "        return\n",
        "\n",
        "    # Burn this cell (mark visited)\n",
        "    grid[i][j] = -1\n",
        "\n",
        "    # Spread fire in 4 directions\n",
        "    fire(grid, i+1, j)\n",
        "    fire(grid, i-1, j)\n",
        "    fire(grid, i, j+1)\n",
        "    fire(grid, i, j-1)\n",
        "\n",
        "# Example grid (1 = land, 0 = water)\n",
        "forest = [\n",
        "    [1, 1, 0, 1],\n",
        "    [1, 1, 0, 1],\n",
        "    [1, 0, 0, 0]\n",
        "]\n",
        "\n",
        "count = 0\n",
        "for i in range(len(forest)):\n",
        "    for j in range(len(forest[0])):\n",
        "        if forest[i][j] == 1:\n",
        "            fire(forest, i, j)  # Burn the whole island\n",
        "            count += 1          # Increase island count\n",
        "\n",
        "print(\"Number of islands:\", count)"
      ],
      "metadata": {
        "colab": {
          "base_uri": "https://localhost:8080/"
        },
        "id": "R3mIaN0ITHxT",
        "outputId": "4a1c3895-0104-44b7-d7d8-f25dee7f8606"
      },
      "execution_count": null,
      "outputs": [
        {
          "output_type": "stream",
          "name": "stdout",
          "text": [
            "Number of islands: 2\n"
          ]
        }
      ]
    }
  ]
}