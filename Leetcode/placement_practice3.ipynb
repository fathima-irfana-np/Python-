{
  "nbformat": 4,
  "nbformat_minor": 0,
  "metadata": {
    "colab": {
      "provenance": []
    },
    "kernelspec": {
      "name": "python3",
      "display_name": "Python 3"
    },
    "language_info": {
      "name": "python"
    }
  },
  "cells": [
    {
      "cell_type": "code",
      "execution_count": null,
      "metadata": {
        "colab": {
          "base_uri": "https://localhost:8080/"
        },
        "id": "F_eI2Jg2UemK",
        "outputId": "765da9f1-02ad-48bc-b489-52c3c383e2a9"
      },
      "outputs": [
        {
          "output_type": "stream",
          "name": "stdout",
          "text": [
            "325\n"
          ]
        }
      ],
      "source": [
        "# Sum of first N natural numbers\n",
        "def funt(n):\n",
        "    if n <= 0:\n",
        "        return 0\n",
        "    return n+funt(n-1)\n",
        "\n",
        "n = 25\n",
        "print(funt(n))"
      ]
    },
    {
      "cell_type": "code",
      "source": [
        "def sum_of_digits(n):\n",
        "    if n == 0:\n",
        "        return 0\n",
        "    return n % 10 + sum_of_digits(n // 10)\n",
        "n = int(input(\"Enter a number: \"))\n",
        "print(\"Sum of digits:\", sum_of_digits(n))"
      ],
      "metadata": {
        "id": "771gJsEiXoVY"
      },
      "execution_count": null,
      "outputs": []
    },
    {
      "cell_type": "code",
      "source": [
        "#LINKED LIST\n",
        "class Solution(object):\n",
        "    def middleNode(self, head):\n",
        "        slow = fast = head\n",
        "        while fast and fast.next:\n",
        "            slow = slow.next\n",
        "            fast = fast.next.next\n",
        "        return slow\n"
      ],
      "metadata": {
        "id": "57BXa6lGXtuL"
      },
      "execution_count": null,
      "outputs": []
    }
  ]
}