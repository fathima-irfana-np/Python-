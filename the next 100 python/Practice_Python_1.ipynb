{
  "nbformat": 4,
  "nbformat_minor": 0,
  "metadata": {
    "colab": {
      "provenance": []
    },
    "kernelspec": {
      "name": "python3",
      "display_name": "Python 3"
    },
    "language_info": {
      "name": "python"
    }
  },
  "cells": [
    {
      "cell_type": "code",
      "execution_count": 1,
      "metadata": {
        "colab": {
          "base_uri": "https://localhost:8080/"
        },
        "id": "TkNr_Bxhrpzq",
        "outputId": "49e92ed7-c0f8-48d4-8884-10972f626d68"
      },
      "outputs": [
        {
          "output_type": "stream",
          "name": "stdout",
          "text": [
            "Original | zfill (5) | zfill + ljust (8)\n",
            "-------------------------------------------\n",
            "3        | 00003      | 00003III\n",
            "25       | 00025      | 00025III\n",
            "789      | 00789      | 00789III\n",
            "-4       | -0004      | -0004III\n",
            "+66      | +0066      | +0066III\n"
          ]
        }
      ],
      "source": [
        "# List of number strings\n",
        "numbers = [\"3\", \"25\", \"789\", \"-4\", \"+66\"]\n",
        "\n",
        "# zfill to pad left\n",
        "# ljust to pad right\n",
        "print(\"Original | zfill (5) | zfill + ljust (8)\")\n",
        "print(\"-------------------------------------------\")\n",
        "\n",
        "for num in numbers:\n",
        "    left_padded = num.zfill(5)               # Pad zeros to the left\n",
        "    full_padded = left_padded.ljust(8, 'I')  # Then pad I to the right\n",
        "    print(f\"{num:<8} | {left_padded:<10} | {full_padded}\")"
      ]
    },
    {
      "cell_type": "code",
      "source": [
        "m=\"\"\n",
        "mi=\"aaabbbcccda\"\n",
        "b=set(mi)\n",
        "for x in b:\n",
        "    m+=x+str(mi.count(x))\n",
        "print(m)"
      ],
      "metadata": {
        "colab": {
          "base_uri": "https://localhost:8080/"
        },
        "id": "Zx6M0cxIwBQO",
        "outputId": "d4ebeefa-70ae-465f-e18c-1d71efb8d854"
      },
      "execution_count": 3,
      "outputs": [
        {
          "output_type": "stream",
          "name": "stdout",
          "text": [
            "a4c3d1b3\n"
          ]
        }
      ]
    },
    {
      "cell_type": "code",
      "source": [
        "n=int(input(\"enter a number\"))\n",
        "l=['a','b','c','d','e','f','g','h','i','j','k','l','m','n','o','p','q','r','s','t','u','v','w','x','y','z']\n",
        "print(l[n-1].center((n*2)-1,'-'))\n"
      ],
      "metadata": {
        "colab": {
          "base_uri": "https://localhost:8080/"
        },
        "id": "JltjDvKbzE-g",
        "outputId": "3ac13dac-857e-47df-e570-64f36e605e74"
      },
      "execution_count": 6,
      "outputs": [
        {
          "output_type": "stream",
          "name": "stdout",
          "text": [
            "enter a number3\n",
            "--c--\n"
          ]
        }
      ]
    },
    {
      "cell_type": "code",
      "source": [
        "n=int(input(\"enter a number\"))\n",
        "l=chr(96+n)\n",
        "print((n-1)*'-'+l+(n-1)*'-')"
      ],
      "metadata": {
        "colab": {
          "base_uri": "https://localhost:8080/"
        },
        "id": "PHj4UUuyzfmX",
        "outputId": "186b2bb6-04d7-4b31-bfa1-4821dc79e834"
      },
      "execution_count": 7,
      "outputs": [
        {
          "output_type": "stream",
          "name": "stdout",
          "text": [
            "enter a number3\n",
            "--c--\n"
          ]
        }
      ]
    },
    {
      "cell_type": "code",
      "source": [
        "m=int(input(\"enter a number m\"))\n",
        "n=int(input(\"enter a number n\"))\n",
        "list1=['a','b','c','d','e','f','g','h','i','j','k','l','m','n','o','p','q','r','s','t','u','v','w','x','y','z']\n",
        "if(1<=n<=26) and n<m:\n",
        "    newline=''.join(list1[n-1:m])\n",
        "    print(newline[::-1])\n",
        "else:\n",
        "    print(\"invalid input\")"
      ],
      "metadata": {
        "colab": {
          "base_uri": "https://localhost:8080/"
        },
        "id": "1MQ1iOF50osn",
        "outputId": "2f378158-6e7a-4cce-8988-f59ffa7efc37"
      },
      "execution_count": 8,
      "outputs": [
        {
          "output_type": "stream",
          "name": "stdout",
          "text": [
            "enter a number m5\n",
            "enter a number n1\n",
            "edcba\n"
          ]
        }
      ]
    },
    {
      "cell_type": "code",
      "source": [
        "n=int(input(\"enter a number \"))\n",
        "y=\"\"\n",
        "for i in range (n):\n",
        "    y=y+chr(96+n)\n",
        "    print(y)\n",
        "    n-=1"
      ],
      "metadata": {
        "colab": {
          "base_uri": "https://localhost:8080/"
        },
        "id": "nYuA6KcD1KsW",
        "outputId": "5f2e58bf-ebbb-4dd0-805f-db9c2069f686"
      },
      "execution_count": 10,
      "outputs": [
        {
          "output_type": "stream",
          "name": "stdout",
          "text": [
            "enter a number 3\n",
            "c\n",
            "cb\n",
            "cba\n"
          ]
        }
      ]
    },
    {
      "cell_type": "code",
      "source": [
        "n=int(input(\"enter a number\"))\n",
        "sum=0\n",
        "while(n>0):\n",
        "    m=n%10\n",
        "    sum+=m\n",
        "    n=n//10\n",
        "print(sum)"
      ],
      "metadata": {
        "colab": {
          "base_uri": "https://localhost:8080/"
        },
        "id": "vFNh0WCj1b1l",
        "outputId": "47392a02-8c1b-4c6c-ebfc-a76aecc93bff"
      },
      "execution_count": 11,
      "outputs": [
        {
          "output_type": "stream",
          "name": "stdout",
          "text": [
            "enter a number123\n",
            "6\n"
          ]
        }
      ]
    },
    {
      "cell_type": "code",
      "source": [
        "# number reverse\n",
        "n=input(\"enter number :\")\n",
        "n=n.rstrip('0')\n",
        "L=[]\n",
        "length=len(n)\n",
        "while (length >0):\n",
        "        L. append(n[length -1])\n",
        "        length-=1\n",
        "print(\"\". join(L))"
      ],
      "metadata": {
        "colab": {
          "base_uri": "https://localhost:8080/"
        },
        "id": "4yhdKPrL1fwy",
        "outputId": "32141eb6-76f4-434e-bc7a-ed0d3a2811c1"
      },
      "execution_count": 13,
      "outputs": [
        {
          "output_type": "stream",
          "name": "stdout",
          "text": [
            "enter number :5980000\n",
            "895\n"
          ]
        }
      ]
    },
    {
      "cell_type": "code",
      "source": [
        "n=input(\"enter number :\")\n",
        "n=n.rstrip('0')\n",
        "n=n[::-1]\n",
        "print(n)"
      ],
      "metadata": {
        "colab": {
          "base_uri": "https://localhost:8080/"
        },
        "id": "sPHewlr33cnl",
        "outputId": "356f9d27-ef1b-4c7a-f164-0e234e645ce0"
      },
      "execution_count": 15,
      "outputs": [
        {
          "output_type": "stream",
          "name": "stdout",
          "text": [
            "enter number :45435000\n",
            "53454\n"
          ]
        }
      ]
    },
    {
      "cell_type": "code",
      "source": [
        "# Write factorial problems\n",
        "import sys\n",
        "n=int(input(\"enter a number \"))\n",
        "if(n==0):\n",
        "    print(1)\n",
        "    sys.exit(0)\n",
        "facto=1\n",
        "while(n>0):\n",
        "    facto=facto*n\n",
        "    n-=1\n",
        "print(facto)"
      ],
      "metadata": {
        "colab": {
          "base_uri": "https://localhost:8080/"
        },
        "id": "VLOwl38E5KLs",
        "outputId": "13bb75e5-02ff-401d-dc71-1df3b6483736"
      },
      "execution_count": 17,
      "outputs": [
        {
          "output_type": "stream",
          "name": "stdout",
          "text": [
            "enter a number 34\n",
            "295232799039604140847618609643520000000\n"
          ]
        }
      ]
    },
    {
      "cell_type": "code",
      "source": [
        "def factorial(n):\n",
        "    if n == 0:\n",
        "        return 1\n",
        "    return n * factorial(n - 1)\n",
        "\n",
        "n = int(input(\"Enter a number: \"))\n",
        "print(\"Factorial is:\", factorial(n))"
      ],
      "metadata": {
        "colab": {
          "base_uri": "https://localhost:8080/"
        },
        "id": "bjK7rV6253Me",
        "outputId": "2e88838d-07ff-4a93-ff6e-41194c207941"
      },
      "execution_count": 18,
      "outputs": [
        {
          "output_type": "stream",
          "name": "stdout",
          "text": [
            "Enter a number: 5\n",
            "Factorial is: 120\n"
          ]
        }
      ]
    },
    {
      "cell_type": "code",
      "source": [
        "# sum by recursion\n",
        "def recur(digit):\n",
        "    if digit<=0:\n",
        "        return 0\n",
        "    return (digit%10)+recur(digit//10)\n",
        "num=int(input(\"num:\"))\n",
        "result=recur(num)\n",
        "print(  result )"
      ],
      "metadata": {
        "colab": {
          "base_uri": "https://localhost:8080/"
        },
        "id": "bburLAVV6XoF",
        "outputId": "03aa42a4-892c-4106-e2f9-fc880d1d0d75"
      },
      "execution_count": 19,
      "outputs": [
        {
          "output_type": "stream",
          "name": "stdout",
          "text": [
            "num:123\n",
            "6\n"
          ]
        }
      ]
    },
    {
      "cell_type": "code",
      "source": [],
      "metadata": {
        "id": "AGeOL2_46nBB"
      },
      "execution_count": null,
      "outputs": []
    }
  ]
}